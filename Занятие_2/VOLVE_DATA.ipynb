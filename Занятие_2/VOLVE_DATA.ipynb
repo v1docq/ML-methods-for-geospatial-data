{
 "cells": [
  {
   "cell_type": "markdown",
   "metadata": {},
   "source": [
    "#### Import libraries and input file"
   ]
  },
  {
   "cell_type": "code",
   "execution_count": 1,
   "metadata": {},
   "outputs": [
    {
     "name": "stdout",
     "output_type": "stream",
     "text": [
      "<class 'pandas.core.frame.DataFrame'>\n",
      "RangeIndex: 9161 entries, 0 to 9160\n",
      "Data columns (total 3 columns):\n",
      "DATEPRD           9161 non-null object\n",
      "WELL_BORE_CODE    9161 non-null object\n",
      "BORE_OIL_VOL      9161 non-null float64\n",
      "dtypes: float64(1), object(2)\n",
      "memory usage: 214.8+ KB\n"
     ]
    }
   ],
   "source": [
    "import pandas as pd\n",
    "import numpy as np\n",
    "import matplotlib.pyplot as plt\n",
    "\n",
    "df = pd.read_csv('./data/Volve-Daily-Production-Data.csv', thousands=',')\n",
    "df = df[['DATEPRD','WELL_BORE_CODE','BORE_OIL_VOL']]\n",
    "df = df.dropna(axis=0, how='any').reset_index(drop=True)\n",
    "df.info()"
   ]
  },
  {
   "cell_type": "code",
   "execution_count": 2,
   "metadata": {},
   "outputs": [
    {
     "data": {
      "text/html": [
       "<div>\n",
       "<style scoped>\n",
       "    .dataframe tbody tr th:only-of-type {\n",
       "        vertical-align: middle;\n",
       "    }\n",
       "\n",
       "    .dataframe tbody tr th {\n",
       "        vertical-align: top;\n",
       "    }\n",
       "\n",
       "    .dataframe thead th {\n",
       "        text-align: right;\n",
       "    }\n",
       "</style>\n",
       "<table border=\"1\" class=\"dataframe\">\n",
       "  <thead>\n",
       "    <tr style=\"text-align: right;\">\n",
       "      <th></th>\n",
       "      <th>DATEPRD</th>\n",
       "      <th>WELL_BORE_CODE</th>\n",
       "      <th>BORE_OIL_VOL</th>\n",
       "    </tr>\n",
       "  </thead>\n",
       "  <tbody>\n",
       "    <tr>\n",
       "      <th>0</th>\n",
       "      <td>07-Apr-14</td>\n",
       "      <td>NO 15/9-F-1 C</td>\n",
       "      <td>0.0</td>\n",
       "    </tr>\n",
       "    <tr>\n",
       "      <th>1</th>\n",
       "      <td>08-Apr-14</td>\n",
       "      <td>NO 15/9-F-1 C</td>\n",
       "      <td>0.0</td>\n",
       "    </tr>\n",
       "    <tr>\n",
       "      <th>2</th>\n",
       "      <td>09-Apr-14</td>\n",
       "      <td>NO 15/9-F-1 C</td>\n",
       "      <td>0.0</td>\n",
       "    </tr>\n",
       "    <tr>\n",
       "      <th>3</th>\n",
       "      <td>10-Apr-14</td>\n",
       "      <td>NO 15/9-F-1 C</td>\n",
       "      <td>0.0</td>\n",
       "    </tr>\n",
       "    <tr>\n",
       "      <th>4</th>\n",
       "      <td>11-Apr-14</td>\n",
       "      <td>NO 15/9-F-1 C</td>\n",
       "      <td>0.0</td>\n",
       "    </tr>\n",
       "    <tr>\n",
       "      <th>...</th>\n",
       "      <td>...</td>\n",
       "      <td>...</td>\n",
       "      <td>...</td>\n",
       "    </tr>\n",
       "    <tr>\n",
       "      <th>9156</th>\n",
       "      <td>13-Sep-16</td>\n",
       "      <td>NO 15/9-F-5 AH</td>\n",
       "      <td>0.0</td>\n",
       "    </tr>\n",
       "    <tr>\n",
       "      <th>9157</th>\n",
       "      <td>14-Sep-16</td>\n",
       "      <td>NO 15/9-F-5 AH</td>\n",
       "      <td>0.0</td>\n",
       "    </tr>\n",
       "    <tr>\n",
       "      <th>9158</th>\n",
       "      <td>15-Sep-16</td>\n",
       "      <td>NO 15/9-F-5 AH</td>\n",
       "      <td>0.0</td>\n",
       "    </tr>\n",
       "    <tr>\n",
       "      <th>9159</th>\n",
       "      <td>16-Sep-16</td>\n",
       "      <td>NO 15/9-F-5 AH</td>\n",
       "      <td>0.0</td>\n",
       "    </tr>\n",
       "    <tr>\n",
       "      <th>9160</th>\n",
       "      <td>17-Sep-16</td>\n",
       "      <td>NO 15/9-F-5 AH</td>\n",
       "      <td>0.0</td>\n",
       "    </tr>\n",
       "  </tbody>\n",
       "</table>\n",
       "<p>9161 rows × 3 columns</p>\n",
       "</div>"
      ],
      "text/plain": [
       "        DATEPRD  WELL_BORE_CODE  BORE_OIL_VOL\n",
       "0     07-Apr-14   NO 15/9-F-1 C           0.0\n",
       "1     08-Apr-14   NO 15/9-F-1 C           0.0\n",
       "2     09-Apr-14   NO 15/9-F-1 C           0.0\n",
       "3     10-Apr-14   NO 15/9-F-1 C           0.0\n",
       "4     11-Apr-14   NO 15/9-F-1 C           0.0\n",
       "...         ...             ...           ...\n",
       "9156  13-Sep-16  NO 15/9-F-5 AH           0.0\n",
       "9157  14-Sep-16  NO 15/9-F-5 AH           0.0\n",
       "9158  15-Sep-16  NO 15/9-F-5 AH           0.0\n",
       "9159  16-Sep-16  NO 15/9-F-5 AH           0.0\n",
       "9160  17-Sep-16  NO 15/9-F-5 AH           0.0\n",
       "\n",
       "[9161 rows x 3 columns]"
      ]
     },
     "execution_count": 2,
     "metadata": {},
     "output_type": "execute_result"
    }
   ],
   "source": [
    "df"
   ]
  },
  {
   "cell_type": "code",
   "execution_count": 3,
   "metadata": {
    "scrolled": true
   },
   "outputs": [
    {
     "data": {
      "text/plain": [
       "array(['NO 15/9-F-1 C', 'NO 15/9-F-11 H', 'NO 15/9-F-12 H',\n",
       "       'NO 15/9-F-14 H', 'NO 15/9-F-15 D', 'NO 15/9-F-5 AH'], dtype=object)"
      ]
     },
     "execution_count": 3,
     "metadata": {},
     "output_type": "execute_result"
    }
   ],
   "source": [
    "well_codes = df.WELL_BORE_CODE.unique()\n",
    "well_codes"
   ]
  },
  {
   "cell_type": "code",
   "execution_count": 4,
   "metadata": {},
   "outputs": [],
   "source": [
    "numeric_day = 86400000000000"
   ]
  },
  {
   "cell_type": "markdown",
   "metadata": {},
   "source": [
    "#### Convert data dates into production days and plot"
   ]
  },
  {
   "cell_type": "code",
   "execution_count": 5,
   "metadata": {
    "scrolled": true
   },
   "outputs": [
    {
     "data": {
      "image/png": "[encoded data removed]",
      "text/plain": [
       "<Figure size 432x288 with 1 Axes>"
      ]
     },
     "metadata": {
      "needs_background": "light"
     },
     "output_type": "display_data"
    },
    {
     "data": {
      "image/png": "[encoded data removed]",
      "text/plain": [
       "<Figure size 432x288 with 1 Axes>"
      ]
     },
     "metadata": {
      "needs_background": "light"
     },
     "output_type": "display_data"
    },
    {
     "data": {
      "image/png": "[encoded data removed]",
      "text/plain": [
       "<Figure size 432x288 with 1 Axes>"
      ]
     },
     "metadata": {
      "needs_background": "light"
     },
     "output_type": "display_data"
    },
    {
     "data": {
      "image/png": "[encoded data removed]",
      "text/plain": [
       "<Figure size 432x288 with 1 Axes>"
      ]
     },
     "metadata": {
      "needs_background": "light"
     },
     "output_type": "display_data"
    },
    {
     "data": {
      "image/png": "[encoded data removed]",
      "text/plain": [
       "<Figure size 432x288 with 1 Axes>"
      ]
     },
     "metadata": {
      "needs_background": "light"
     },
     "output_type": "display_data"
    },
    {
     "data": {
      "image/png": "[encoded data removed]",
      "text/plain": [
       "<Figure size 432x288 with 1 Axes>"
      ]
     },
     "metadata": {
      "needs_background": "light"
     },
     "output_type": "display_data"
    }
   ],
   "source": [
    "nwells = len(well_codes)\n",
    "df_wells = []\n",
    "for i in range(nwells):\n",
    "    df_wells.append(df[df['WELL_BORE_CODE'] == well_codes[i]])\n",
    "    df_wells[i] = df_wells[i].drop(columns=['WELL_BORE_CODE'])\n",
    "    df_wells[i]['DATEPRD'] = pd.to_numeric(pd.to_datetime(df_wells[i]['DATEPRD']))\n",
    "    df_wells[i]['DATEPRD'] = (df_wells[i]['DATEPRD'].values - \\\n",
    "                              df_wells[i]['DATEPRD'].values[0]) / numeric_day\n",
    "    df_wells[i] = df_wells[i].rename(columns={'DATEPRD': 'DAY_OF_PROD', \n",
    "                                              'BORE_OIL_VOL': 'OIL_VOL_PROD'})\n",
    "    df_wells[i].plot(x='DAY_OF_PROD', y='OIL_VOL_PROD',color='red')\n",
    "    plt.title(well_codes[i])\n",
    "    plt.show()"
   ]
  },
  {
   "cell_type": "markdown",
   "metadata": {},
   "source": [
    "#### Use data from wells \n",
    "- 'NO 15/9-F-12 H' (Index: 2)\n",
    "- 'NO 15/9-F-14 H' (Index: 3)\n",
    "\n",
    "#### to train LSTM models."
   ]
  },
  {
   "cell_type": "markdown",
   "metadata": {},
   "source": [
    "#### Ensure there are no gaps in data"
   ]
  },
  {
   "cell_type": "code",
   "execution_count": 6,
   "metadata": {},
   "outputs": [
    {
     "name": "stdout",
     "output_type": "stream",
     "text": [
      "75.0\n",
      "77.0\n",
      "1 Missing day(s)\n",
      "176.0\n",
      "178.0\n",
      "1 Missing day(s)\n",
      "447.0\n",
      "449.0\n",
      "1 Missing day(s)\n",
      "537.0\n",
      "539.0\n",
      "1 Missing day(s)\n",
      "566.0\n",
      "568.0\n",
      "1 Missing day(s)\n",
      "746.0\n",
      "749.0\n",
      "2 Missing day(s)\n",
      "753.0\n",
      "755.0\n",
      "1 Missing day(s)\n",
      "915.0\n",
      "917.0\n",
      "1 Missing day(s)\n",
      "917.0\n",
      "920.0\n",
      "2 Missing day(s)\n",
      "923.0\n",
      "925.0\n",
      "1 Missing day(s)\n",
      "1085.0\n",
      "1089.0\n",
      "3 Missing day(s)\n",
      "1224.0\n",
      "1228.0\n",
      "3 Missing day(s)\n",
      "1228.0\n",
      "1232.0\n",
      "3 Missing day(s)\n",
      "1232.0\n",
      "1235.0\n",
      "2 Missing day(s)\n",
      "1239.0\n",
      "1241.0\n",
      "1 Missing day(s)\n",
      "1245.0\n",
      "1247.0\n",
      "1 Missing day(s)\n",
      "1252.0\n",
      "1254.0\n",
      "1 Missing day(s)\n",
      "1341.0\n",
      "1345.0\n",
      "3 Missing day(s)\n",
      "1350.0\n",
      "1352.0\n",
      "1 Missing day(s)\n",
      "1381.0\n",
      "1385.0\n",
      "3 Missing day(s)\n",
      "1385.0\n",
      "1389.0\n",
      "3 Missing day(s)\n",
      "1389.0\n",
      "1392.0\n",
      "2 Missing day(s)\n",
      "1395.0\n",
      "1397.0\n",
      "1 Missing day(s)\n",
      "1400.0\n",
      "1402.0\n",
      "1 Missing day(s)\n",
      "1411.0\n",
      "1413.0\n",
      "1 Missing day(s)\n",
      "1420.0\n",
      "1432.0\n",
      "11 Missing day(s)\n",
      "1443.0\n",
      "1445.0\n",
      "1 Missing day(s)\n",
      "1644.0\n",
      "1646.0\n",
      "1 Missing day(s)\n",
      "1648.0\n",
      "1650.0\n",
      "1 Missing day(s)\n",
      "1665.0\n",
      "1669.0\n",
      "3 Missing day(s)\n",
      "1669.0\n",
      "1673.0\n",
      "3 Missing day(s)\n",
      "1673.0\n",
      "1677.0\n",
      "3 Missing day(s)\n",
      "1679.0\n",
      "1681.0\n",
      "1 Missing day(s)\n",
      "1681.0\n",
      "1683.0\n",
      "1 Missing day(s)\n",
      "1683.0\n",
      "1685.0\n",
      "1 Missing day(s)\n",
      "1685.0\n",
      "1687.0\n",
      "1 Missing day(s)\n",
      "1689.0\n",
      "1691.0\n",
      "1 Missing day(s)\n",
      "1706.0\n",
      "1711.0\n",
      "4 Missing day(s)\n",
      "1850.0\n",
      "1853.0\n",
      "2 Missing day(s)\n",
      "1854.0\n",
      "1856.0\n",
      "1 Missing day(s)\n",
      "1875.0\n",
      "1877.0\n",
      "1 Missing day(s)\n",
      "1879.0\n",
      "1883.0\n",
      "3 Missing day(s)\n",
      "1958.0\n",
      "1961.0\n",
      "2 Missing day(s)\n",
      "2045.0\n",
      "2047.0\n",
      "1 Missing day(s)\n",
      "2178.0\n",
      "2180.0\n",
      "1 Missing day(s)\n",
      "2186.0\n",
      "2188.0\n",
      "1 Missing day(s)\n",
      "75.0\n",
      "77.0\n",
      "1 Missing day(s)\n",
      "176.0\n",
      "178.0\n",
      "1 Missing day(s)\n",
      "447.0\n",
      "449.0\n",
      "1 Missing day(s)\n",
      "537.0\n",
      "539.0\n",
      "1 Missing day(s)\n",
      "566.0\n",
      "568.0\n",
      "1 Missing day(s)\n",
      "746.0\n",
      "749.0\n",
      "2 Missing day(s)\n",
      "753.0\n",
      "755.0\n",
      "1 Missing day(s)\n",
      "915.0\n",
      "917.0\n",
      "1 Missing day(s)\n",
      "917.0\n",
      "920.0\n",
      "2 Missing day(s)\n",
      "923.0\n",
      "925.0\n",
      "1 Missing day(s)\n",
      "1085.0\n",
      "1089.0\n",
      "3 Missing day(s)\n",
      "1224.0\n",
      "1228.0\n",
      "3 Missing day(s)\n",
      "1228.0\n",
      "1232.0\n",
      "3 Missing day(s)\n",
      "1232.0\n",
      "1235.0\n",
      "2 Missing day(s)\n",
      "1239.0\n",
      "1241.0\n",
      "1 Missing day(s)\n",
      "1245.0\n",
      "1247.0\n",
      "1 Missing day(s)\n",
      "1252.0\n",
      "1254.0\n",
      "1 Missing day(s)\n",
      "1341.0\n",
      "1345.0\n",
      "3 Missing day(s)\n",
      "1350.0\n",
      "1352.0\n",
      "1 Missing day(s)\n",
      "1381.0\n",
      "1385.0\n",
      "3 Missing day(s)\n",
      "1385.0\n",
      "1389.0\n",
      "3 Missing day(s)\n",
      "1389.0\n",
      "1392.0\n",
      "2 Missing day(s)\n",
      "1395.0\n",
      "1397.0\n",
      "1 Missing day(s)\n",
      "1400.0\n",
      "1402.0\n",
      "1 Missing day(s)\n",
      "1411.0\n",
      "1413.0\n",
      "1 Missing day(s)\n",
      "1420.0\n",
      "1432.0\n",
      "11 Missing day(s)\n",
      "1443.0\n",
      "1445.0\n",
      "1 Missing day(s)\n",
      "1644.0\n",
      "1646.0\n",
      "1 Missing day(s)\n",
      "1648.0\n",
      "1650.0\n",
      "1 Missing day(s)\n",
      "1665.0\n",
      "1669.0\n",
      "3 Missing day(s)\n",
      "1669.0\n",
      "1673.0\n",
      "3 Missing day(s)\n",
      "1673.0\n",
      "1677.0\n",
      "3 Missing day(s)\n",
      "1679.0\n",
      "1681.0\n",
      "1 Missing day(s)\n",
      "1681.0\n",
      "1683.0\n",
      "1 Missing day(s)\n",
      "1683.0\n",
      "1685.0\n",
      "1 Missing day(s)\n",
      "1685.0\n",
      "1687.0\n",
      "1 Missing day(s)\n",
      "1689.0\n",
      "1691.0\n",
      "1 Missing day(s)\n",
      "1706.0\n",
      "1711.0\n",
      "4 Missing day(s)\n",
      "1850.0\n",
      "1853.0\n",
      "2 Missing day(s)\n",
      "1854.0\n",
      "1856.0\n",
      "1 Missing day(s)\n",
      "1875.0\n",
      "1877.0\n",
      "1 Missing day(s)\n",
      "1879.0\n",
      "1883.0\n",
      "3 Missing day(s)\n",
      "1958.0\n",
      "1961.0\n",
      "2 Missing day(s)\n",
      "2045.0\n",
      "2047.0\n",
      "1 Missing day(s)\n",
      "2178.0\n",
      "2180.0\n",
      "1 Missing day(s)\n",
      "2186.0\n",
      "2188.0\n",
      "1 Missing day(s)\n"
     ]
    }
   ],
   "source": [
    "# Integrity check: Make sure there are no missing days \n",
    "# in the oil production data for these two wells.\n",
    "for i in [2, 3]:\n",
    "    days = df_wells[i]['DAY_OF_PROD'].values\n",
    "    for j in range(1, len(days)):\n",
    "        diff = days[j] - days[j-1]\n",
    "        if(diff > 1):\n",
    "            print(days[j-1])\n",
    "            print(days[j])\n",
    "            print('%d Missing day(s)' % (diff - 1))"
   ]
  },
  {
   "cell_type": "markdown",
   "metadata": {},
   "source": [
    "#### Fill missing days with the last value"
   ]
  },
  {
   "cell_type": "code",
   "execution_count": 7,
   "metadata": {},
   "outputs": [],
   "source": [
    "well_names = []\n",
    "day_of_prod = []\n",
    "oil_vol_prod = []\n",
    "cum_oil_prod = []\n",
    "cum_prod = 0\n",
    "for i in [2, 3]:\n",
    "    well_code = well_codes[i]\n",
    "    days = df_wells[i]['DAY_OF_PROD'].values\n",
    "    vols = df_wells[i]['OIL_VOL_PROD'].values\n",
    "\n",
    "    well_names.append(well_code)\n",
    "    day_of_prod.append(days[0])\n",
    "    oil_vol_prod.append(vols[0])\n",
    "    cum_prod = vols[0]\n",
    "    cum_oil_prod.append(cum_prod)\n",
    "    for j in range(1, len(days)):\n",
    "        diff = int(days[j] - days[j-1])\n",
    "        if(diff > 1):\n",
    "            for k in range(1,diff):\n",
    "                well_names.append(well_code)\n",
    "                day_of_prod.append(days[j-1] + k)\n",
    "                oil_vol_prod.append(vols[j-1])\n",
    "                cum_prod += vols[j-1]\n",
    "                cum_oil_prod.append(cum_prod)\n",
    "            well_names.append(well_code)\n",
    "            day_of_prod.append(days[j])\n",
    "            oil_vol_prod.append(vols[j])\n",
    "            cum_prod += vols[j]\n",
    "            cum_oil_prod.append(cum_prod)\n",
    "        elif(diff==1):\n",
    "            well_names.append(well_code)\n",
    "            day_of_prod.append(days[j])\n",
    "            oil_vol_prod.append(vols[j])\n",
    "            cum_prod += vols[j]\n",
    "            cum_oil_prod.append(cum_prod)            "
   ]
  },
  {
   "cell_type": "markdown",
   "metadata": {},
   "source": [
    "#### Repeat sanity check"
   ]
  },
  {
   "cell_type": "code",
   "execution_count": 8,
   "metadata": {
    "scrolled": true
   },
   "outputs": [
    {
     "name": "stdout",
     "output_type": "stream",
     "text": [
      "3140.0\n",
      "0.0\n",
      "3139 Missing day(s)\n"
     ]
    }
   ],
   "source": [
    "for j in range(1, len(day_of_prod)):\n",
    "    diff = abs(int(day_of_prod[j] - day_of_prod[j-1]))\n",
    "    if(diff > 1):\n",
    "        print(day_of_prod[j-1])\n",
    "        print(day_of_prod[j])\n",
    "        print('%d Missing day(s)' % (diff - 1))"
   ]
  },
  {
   "cell_type": "markdown",
   "metadata": {},
   "source": [
    "#### Create merged dataframe, and write to file"
   ]
  },
  {
   "cell_type": "code",
   "execution_count": 9,
   "metadata": {},
   "outputs": [
    {
     "data": {
      "text/html": [
       "<div>\n",
       "<style scoped>\n",
       "    .dataframe tbody tr th:only-of-type {\n",
       "        vertical-align: middle;\n",
       "    }\n",
       "\n",
       "    .dataframe tbody tr th {\n",
       "        vertical-align: top;\n",
       "    }\n",
       "\n",
       "    .dataframe thead th {\n",
       "        text-align: right;\n",
       "    }\n",
       "</style>\n",
       "<table border=\"1\" class=\"dataframe\">\n",
       "  <thead>\n",
       "    <tr style=\"text-align: right;\">\n",
       "      <th></th>\n",
       "      <th>DAY_OF_PROD</th>\n",
       "      <th>OIL_PROD_VOL</th>\n",
       "      <th>CUM_OIL_PROD</th>\n",
       "      <th>WELL_CODE</th>\n",
       "    </tr>\n",
       "  </thead>\n",
       "  <tbody>\n",
       "    <tr>\n",
       "      <th>0</th>\n",
       "      <td>0.0</td>\n",
       "      <td>285.0</td>\n",
       "      <td>285.0</td>\n",
       "      <td>NO 15/9-F-12 H</td>\n",
       "    </tr>\n",
       "    <tr>\n",
       "      <th>1</th>\n",
       "      <td>1.0</td>\n",
       "      <td>1870.0</td>\n",
       "      <td>2155.0</td>\n",
       "      <td>NO 15/9-F-12 H</td>\n",
       "    </tr>\n",
       "    <tr>\n",
       "      <th>2</th>\n",
       "      <td>2.0</td>\n",
       "      <td>3124.0</td>\n",
       "      <td>5279.0</td>\n",
       "      <td>NO 15/9-F-12 H</td>\n",
       "    </tr>\n",
       "    <tr>\n",
       "      <th>3</th>\n",
       "      <td>3.0</td>\n",
       "      <td>2608.0</td>\n",
       "      <td>7887.0</td>\n",
       "      <td>NO 15/9-F-12 H</td>\n",
       "    </tr>\n",
       "    <tr>\n",
       "      <th>4</th>\n",
       "      <td>4.0</td>\n",
       "      <td>3052.0</td>\n",
       "      <td>10939.0</td>\n",
       "      <td>NO 15/9-F-12 H</td>\n",
       "    </tr>\n",
       "    <tr>\n",
       "      <th>...</th>\n",
       "      <td>...</td>\n",
       "      <td>...</td>\n",
       "      <td>...</td>\n",
       "      <td>...</td>\n",
       "    </tr>\n",
       "    <tr>\n",
       "      <th>6277</th>\n",
       "      <td>3136.0</td>\n",
       "      <td>0.0</td>\n",
       "      <td>4007646.0</td>\n",
       "      <td>NO 15/9-F-14 H</td>\n",
       "    </tr>\n",
       "    <tr>\n",
       "      <th>6278</th>\n",
       "      <td>3137.0</td>\n",
       "      <td>0.0</td>\n",
       "      <td>4007646.0</td>\n",
       "      <td>NO 15/9-F-14 H</td>\n",
       "    </tr>\n",
       "    <tr>\n",
       "      <th>6279</th>\n",
       "      <td>3138.0</td>\n",
       "      <td>0.0</td>\n",
       "      <td>4007646.0</td>\n",
       "      <td>NO 15/9-F-14 H</td>\n",
       "    </tr>\n",
       "    <tr>\n",
       "      <th>6280</th>\n",
       "      <td>3139.0</td>\n",
       "      <td>0.0</td>\n",
       "      <td>4007646.0</td>\n",
       "      <td>NO 15/9-F-14 H</td>\n",
       "    </tr>\n",
       "    <tr>\n",
       "      <th>6281</th>\n",
       "      <td>3140.0</td>\n",
       "      <td>0.0</td>\n",
       "      <td>4007646.0</td>\n",
       "      <td>NO 15/9-F-14 H</td>\n",
       "    </tr>\n",
       "  </tbody>\n",
       "</table>\n",
       "<p>6282 rows × 4 columns</p>\n",
       "</div>"
      ],
      "text/plain": [
       "      DAY_OF_PROD  OIL_PROD_VOL  CUM_OIL_PROD       WELL_CODE\n",
       "0             0.0         285.0         285.0  NO 15/9-F-12 H\n",
       "1             1.0        1870.0        2155.0  NO 15/9-F-12 H\n",
       "2             2.0        3124.0        5279.0  NO 15/9-F-12 H\n",
       "3             3.0        2608.0        7887.0  NO 15/9-F-12 H\n",
       "4             4.0        3052.0       10939.0  NO 15/9-F-12 H\n",
       "...           ...           ...           ...             ...\n",
       "6277       3136.0           0.0     4007646.0  NO 15/9-F-14 H\n",
       "6278       3137.0           0.0     4007646.0  NO 15/9-F-14 H\n",
       "6279       3138.0           0.0     4007646.0  NO 15/9-F-14 H\n",
       "6280       3139.0           0.0     4007646.0  NO 15/9-F-14 H\n",
       "6281       3140.0           0.0     4007646.0  NO 15/9-F-14 H\n",
       "\n",
       "[6282 rows x 4 columns]"
      ]
     },
     "execution_count": 9,
     "metadata": {},
     "output_type": "execute_result"
    }
   ],
   "source": [
    "df_final = df = pd.DataFrame(list(zip(day_of_prod, oil_vol_prod, cum_oil_prod, well_names)), \n",
    "                             columns =['DAY_OF_PROD', 'OIL_PROD_VOL', 'CUM_OIL_PROD', 'WELL_CODE'])\n",
    "df_final"
   ]
  },
  {
   "cell_type": "code",
   "execution_count": 10,
   "metadata": {},
   "outputs": [],
   "source": [
    "df_final.to_csv('./data/Volve_Oil_Production.csv', index=False)"
   ]
  }
 ],
 "metadata": {
  "kernelspec": {
   "display_name": "Python 3",
   "language": "python",
   "name": "python3"
  },
  "language_info": {
   "codemirror_mode": {
    "name": "ipython",
    "version": 3
   },
   "file_extension": ".py",
   "mimetype": "text/x-python",
   "name": "python",
   "nbconvert_exporter": "python",
   "pygments_lexer": "ipython3",
   "version": "3.8.5"
  }
 },
 "nbformat": 4,
 "nbformat_minor": 4
}
